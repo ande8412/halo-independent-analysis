{
 "cells": [
  {
   "cell_type": "code",
   "execution_count": null,
   "metadata": {},
   "outputs": [],
   "source": []
  },
  {
   "cell_type": "code",
   "execution_count": null,
   "metadata": {},
   "outputs": [],
   "source": [
    "import torch"
   ]
  },
  {
   "cell_type": "code",
   "execution_count": null,
   "metadata": {},
   "outputs": [],
   "source": [
    "from haloidp_analysis import *"
   ]
  },
  {
   "cell_type": "code",
   "execution_count": null,
   "metadata": {},
   "outputs": [],
   "source": [
    "tien_halo_params = [220.0,232,544,0.4e9]"
   ]
  },
  {
   "cell_type": "code",
   "execution_count": null,
   "metadata": {},
   "outputs": [],
   "source": []
  },
  {
   "cell_type": "code",
   "execution_count": null,
   "metadata": {},
   "outputs": [],
   "source": []
  },
  {
   "cell_type": "code",
   "execution_count": null,
   "metadata": {},
   "outputs": [],
   "source": []
  },
  {
   "cell_type": "code",
   "execution_count": null,
   "metadata": {},
   "outputs": [],
   "source": [
    "# import sys\n",
    "# sys.path.append('../QCDark/')\n",
    "# from QCDark import QCDark\n",
    "# QC = QCDark()\n",
    "# import numpy as np\n",
    "# from QCDark import form_factor\n",
    "# ionization_model = 'R'\n",
    "# SI = form_factor('Si_final.hdf5')\n",
    "# ionization_parameter = 'p100k.dat'\n",
    "# # mX_array = np.concatenate((np.arange(0.2,0.8,0.025),np.array([0.9]),np.arange(1,5,0.05),np.arange(5,11,1),np.array([20,50,100,200,500,1000,10000])))*1e6\n",
    "# crosssection = 1e-36\n",
    "# from QCDark import QCDark\n",
    "# QC = QCDark()\n",
    "# halo_model = 'imb'\n",
    "\n",
    "# results = QC.calculate_rates([10], SI, ionization_model, ionization_parameter, halo_model,FDM_exp = 0, max_num_electrons = 1, sigmae = crosssection, DoScreen = True, saveData = False)\n",
    "# results"
   ]
  },
  {
   "cell_type": "code",
   "execution_count": null,
   "metadata": {},
   "outputs": [],
   "source": [
    "from QEDark3 import QEDark\n",
    "device = 'cuda'\n",
    "# [220e5,232e5,544e5,0.4e9]\n",
    "QE_test = QEDark()\n",
    "QE_test.change_to_step()\n",
    "QE_test.update_params(220,232,544,0.4e9,1e-37)\n",
    "QE_test.optimize(device)\n",
    "test_mass = 10\n",
    "nes = [1,2,3,4,5,6,7,8,9,10]\n",
    "FDMn_test = 0\n",
    "halo_model_test = 'imb'\n",
    "rates_shm_10MeV_FDM0_Si = QE_test.vectorized_dRdnE('Si',test_mass,nes,FDMn_test,halo_model_test,DoScreen=False,isoangle=None,halo_id_params=None)\n",
    "rates_shm_10MeV_FDM0_Ge = QE_test.vectorized_dRdnE(\"Ge\",test_mass,nes,FDMn_test,halo_model_test,DoScreen=False,isoangle=None,halo_id_params=None)\n",
    "\n",
    "from haloidp_analysis import minimize,profile_likelihood\n",
    "FDMn = 0\n",
    "num_steps = 100\n",
    "# test_params_1MeV = torch.rand(num_steps,dtype=torch.float32,device=device)\n",
    "# test_params_10MeV_AdamW = torch.rand(num_steps,dtype=torch.double,device=device)\n",
    "test_params_10MeV_Adam = torch.rand(num_steps,dtype=torch.float,device=device)\n",
    "# test_params_10MeV_RMSPROP = torch.rand(num_steps,dtype=torch.double,device=device)\n",
    "# test_params_10MeV_Adam_test = torch.rand(num_steps,dtype=torch.double,device=device)\n",
    "\n",
    "# test_params_20MeV = torch.rand(num_steps,dtype=torch.float32,device=device)\n",
    "# test_params_100MeV = torch.rand(num_steps,dtype=torch.float32,device=device)\n",
    "# print('Initial Params',test_params_10MeV)\n",
    "materials = ['Si','Ge']\n",
    "n_obs_m = [rates_shm_10MeV_FDM0_Si,rates_shm_10MeV_FDM0_Ge]\n",
    "# params_1MeV,likeilhoods_1MeV,test_stats_1MeV =  minimize(1,FDMn,n_obs_m,materials,profile_likelihood, test_params_1MeV,epochs=2000,lr=0.01,crosssection=1e-36,device=device)\n",
    "params_10MeV_Adam,likeilhoods_10MeV_Adam,test_stats_10MeV_Adam =  minimize(10,FDMn,n_obs_m,materials,profile_likelihood, test_params_10MeV_Adam,epochs=5000,lr=0.01,device=device,optimizer_algorithm='Adam',adaptive=True)\n",
    "# params_10MeV_Adam_test,likeilhoods_10MeV_Adam_test,test_stats_10MeV_Adam_test =  minimize(10,FDMn,n_obs_m,materials,profile_likelihood, test_params_10MeV_Adam_test,epochs=3000,lr=0.01,device=device,optimizer_algorithm='Adam',param_dep_test=True)\n",
    "\n",
    "# params_20MeV,likeilhoods_20MeV,test_stats_20MeV =  minimize(20,FDMn,n_obs_m,materials,profile_likelihood, test_params_20MeV,epochs=2000,lr=0.01,crosssection=1e-36,device=test_params_20MeV.device)\n",
    "# params_100MeV,likeilhoods_100MeV,test_stats_100MeV =  minimize(20,FDMn,n_obs_m,materials,profile_likelihood, test_params_100MeV,epochs=2000,lr=0.01,crosssection=1e-36,device=device)\n",
    "\n",
    "# print('Final Params',params_10MeV_Adam)\n"
   ]
  },
  {
   "cell_type": "code",
   "execution_count": null,
   "metadata": {},
   "outputs": [],
   "source": [
    "from haloidp_analysis import plot_eta\n",
    "plot_eta(10,params_10MeV_Adam,plot_mb =True,device=device,save=False,plotname=None,dir='./',cross_section = 1e-37,halo_params = [220.0,232,544,0.4e9])\n",
    "\n",
    "# plot_eta(10,params_10MeV_Adam_test,plot_mb =True,device=device,save=False,plotname=None,dir='./',cross_section = 1e-36)"
   ]
  },
  {
   "cell_type": "code",
   "execution_count": null,
   "metadata": {},
   "outputs": [],
   "source": [
    "#this is me testing on my own model where I know the answer to make sure it is converging\n",
    "#see if likelihood function has rough shape as expected\n",
    "#custom rates I generated to check\n",
    "import numpy as np\n",
    "import torch\n",
    "import matplotlib.pyplot as plt\n",
    "from QEDark3 import QEDark\n",
    "device = 'cuda'\n",
    "# [220e5,232e5,544e5,0.4e9]\n",
    "QE_test = QEDark()\n",
    "QE_test.change_to_step()\n",
    "QE_test.update_params(220,232,544,0.4e9,1e-37)\n",
    "QE_test.optimize(device)\n",
    "test_mass = 50\n",
    "nes = [1,2,3,4,5,6,7,8,9,10]\n",
    "FDMn_test = 2\n",
    "halo_model_test = 'imb'\n",
    "rates_shm_50MeV_FDM0_Si = QE_test.vectorized_dRdnE('Si',test_mass,nes,FDMn_test,halo_model_test,DoScreen=False,isoangle=None,halo_id_params=None,forceCalculate=True)\n",
    "rates_shm_50MeV_FDM0_Ge = QE_test.vectorized_dRdnE(\"Ge\",test_mass,nes,FDMn_test,halo_model_test,DoScreen=False,isoangle=None,halo_id_params=None,forceCalculate=True)\n",
    "\n",
    "\n",
    "\n",
    "from haloidp_analysis import minimize,profile_likelihood\n",
    "FDMn = 2\n",
    "num_steps = 100\n",
    "# test_params_1MeV = torch.rand(num_steps,dtype=torch.float32,device=device)\n",
    "# test_params_10MeV_AdamW = torch.rand(num_steps,dtype=torch.double,device=device)\n",
    "test_params_50MeV_Adam = torch.rand(num_steps,dtype=torch.float,device=device)\n",
    "# test_params_10MeV_RMSPROP = torch.rand(num_steps,dtype=torch.double,device=device)\n",
    "# test_params_10MeV_Adam_test = torch.rand(num_steps,dtype=torch.double,device=device)\n",
    "\n",
    "# test_params_20MeV = torch.rand(num_steps,dtype=torch.float32,device=device)\n",
    "# test_params_100MeV = torch.rand(num_steps,dtype=torch.float32,device=device)\n",
    "# print('Initial Params',test_params_10MeV)\n",
    "materials = ['Si','Ge']\n",
    "n_obs_m = [rates_shm_50MeV_FDM0_Si,rates_shm_50MeV_FDM0_Ge]\n",
    "# params_1MeV,likeilhoods_1MeV,test_stats_1MeV =  minimize(1,FDMn,n_obs_m,materials,profile_likelihood, test_params_1MeV,epochs=2000,lr=0.01,crosssection=1e-36,device=device)\n",
    "params_50MeV_Adam,likeilhoods_50MeV_Adam,test_stats_50MeV_Adam =  minimize(50,FDMn,n_obs_m,materials,profile_likelihood, test_params_50MeV_Adam,epochs=5000,lr=0.01,device=device,optimizer_algorithm='Adam',adaptive=True)\n",
    "# params_10MeV_Adam_test,likeilhoods_10MeV_Adam_test,test_stats_10MeV_Adam_test =  minimize(10,FDMn,n_obs_m,materials,profile_likelihood, test_params_10MeV_Adam_test,epochs=3000,lr=0.01,device=device,optimizer_algorithm='Adam',param_dep_test=True)\n",
    "\n",
    "# params_20MeV,likeilhoods_20MeV,test_stats_20MeV =  minimize(20,FDMn,n_obs_m,materials,profile_likelihood, test_params_20MeV,epochs=2000,lr=0.01,crosssection=1e-36,device=test_params_20MeV.device)\n",
    "# params_100MeV,likeilhoods_100MeV,test_stats_100MeV =  minimize(20,FDMn,n_obs_m,materials,profile_likelihood, test_params_100MeV,epochs=2000,lr=0.01,crosssection=1e-36,device=device)\n",
    "\n",
    "# print('Final Params',params_10MeV_Adam)\n"
   ]
  },
  {
   "cell_type": "code",
   "execution_count": null,
   "metadata": {},
   "outputs": [],
   "source": [
    "from haloidp_analysis import plot_eta\n",
    "plot_eta(50,params_50MeV_Adam,plot_mb =True,device=device,save=False,plotname=None,dir='./',cross_section = 1e-37,halo_params = [220.0,232,544,0.4e9],norm=1e-15)\n",
    "\n",
    "# plot_eta(10,params_10MeV_Adam_test,plot_mb =True,device=device,save=False,plotname=None,dir='./',cross_section = 1e-36)"
   ]
  },
  {
   "cell_type": "code",
   "execution_count": null,
   "metadata": {},
   "outputs": [],
   "source": [
    "device = 'cuda'\n",
    "if device == 'mps':\n",
    "    type_torch = torch.float\n",
    "else:\n",
    "    type_torch = torch.double\n",
    "modelnumber = 1\n",
    "fpath_si = f'./halo_independent/1kgyr_fake_data/Model{modelnumber}_Si.csv'\n",
    "\n",
    "from numpy import loadtxt as loadtxt\n",
    "fake_data_si = loadtxt(fpath_si,delimiter=',')\n",
    "rates_si = fake_data_si[:,1]\n",
    "rates_si = torch.from_numpy(rates_si)\n",
    "if device == 'mps':\n",
    "    rates_si = rates_si.float()\n",
    "rates_si = rates_si.to(device)\n",
    "fpath_ge = f'./halo_independent/1kgyr_fake_data/Model{modelnumber}_Ge.csv'\n",
    "fake_data_ge = loadtxt(fpath_ge,delimiter=',')\n",
    "rates_ge = fake_data_ge[:,1]\n",
    "rates_ge = torch.from_numpy(rates_ge)\n",
    "if device == 'mps':\n",
    "    rates_ge = rates_ge.float()\n",
    "rates_ge = rates_ge.to(device)\n",
    "model_rates = [rates_si,rates_ge]\n",
    "\n",
    "\n",
    "FDMn = 2\n",
    "from haloidp_analysis import minimize,profile_likelihood\n",
    "num_steps = 100\n",
    "# test_params_1MeV = torch.rand(num_steps,dtype=torch.float32,device=device)\n",
    "# test_params_10MeV_AdamW = torch.rand(num_steps,dtype=torch.double,device=device)\n",
    "model1_params_50MeV_Adam = torch.rand(num_steps,dtype=type_torch,device=device)\n",
    "\n",
    "# test_params_20MeV = torch.rand(num_steps,dtype=torch.float32,device=device)\n",
    "# test_params_100MeV = torch.rand(num_steps,dtype=torch.float32,device=device)\n",
    "# print('Initial Params',test_params_10MeV)\n",
    "materials = ['Si','Ge']\n",
    "params_50MeV_model1,likeilhoods_50MeV_model1,test_stats_50MeV_model1 =  minimize(50,FDMn,model_rates,materials,profile_likelihood, model1_params_50MeV_Adam,epochs=5000,lr=0.01,device=device,optimizer_algorithm='Adam',adaptive=True)"
   ]
  },
  {
   "cell_type": "code",
   "execution_count": null,
   "metadata": {},
   "outputs": [],
   "source": [
    "plot_eta(50,params_50MeV_model1,plot_mb =True,device=device,save=False,plotname=None,dir='./',cross_section = 1e-37,halo_params = [220.0,232,544,0.4e9],norm=1e-15)\n",
    "\n",
    "# plot_eta(10,params_10MeV_Adam_test,plot_mb =True,device=device,save=False,plotname=None,dir='./',cross_section = 1e-36)\n",
    "test_stats_50MeV_model1"
   ]
  },
  {
   "cell_type": "code",
   "execution_count": null,
   "metadata": {},
   "outputs": [],
   "source": [
    "device = 'cuda'\n",
    "if device == 'mps':\n",
    "    type_torch = torch.float\n",
    "else:\n",
    "    type_torch = torch.double\n",
    "modelnumber = 1\n",
    "fpath_si = f'./halo_independent/1kgyr_fake_data/Model{modelnumber}_Si.csv'\n",
    "\n",
    "from numpy import loadtxt as loadtxt\n",
    "fake_data_si = loadtxt(fpath_si,delimiter=',')\n",
    "rates_si = fake_data_si[:,1]\n",
    "rates_si = torch.from_numpy(rates_si)\n",
    "if device == 'mps':\n",
    "    rates_si = rates_si.float()\n",
    "rates_si = rates_si.to(device)\n",
    "fpath_ge = f'./halo_independent/1kgyr_fake_data/Model{modelnumber}_Ge.csv'\n",
    "fake_data_ge = loadtxt(fpath_ge,delimiter=',')\n",
    "rates_ge = fake_data_ge[:,1]\n",
    "rates_ge = torch.from_numpy(rates_ge)\n",
    "if device == 'mps':\n",
    "    rates_ge = rates_ge.float()\n",
    "rates_ge = rates_ge.to(device)\n",
    "model_rates = [rates_si,rates_ge]\n",
    "\n",
    "\n",
    "FDMn = 2\n",
    "from haloidp_analysis import minimize,profile_likelihood\n",
    "num_steps = 100\n",
    "# test_params_1MeV = torch.rand(num_steps,dtype=torch.float32,device=device)\n",
    "# test_params_10MeV_AdamW = torch.rand(num_steps,dtype=torch.double,device=device)\n",
    "model1_params_50MeV_Adam_wrong_testing = torch.rand(num_steps,dtype=type_torch,device=device)\n",
    "\n",
    "# test_params_20MeV = torch.rand(num_steps,dtype=torch.float32,device=device)\n",
    "# test_params_100MeV = torch.rand(num_steps,dtype=torch.float32,device=device)\n",
    "# print('Initial Params',test_params_10MeV)\n",
    "materials = ['Si','Ge']\n",
    "params_50MeV_model1_Si,likeilhoods_50MeV_model1_Si,test_stats_50MeV_model1_Si =  minimize(55,FDMn,model_rates,materials,profile_likelihood, model1_params_50MeV_Adam_wrong_testing,epochs=5000,lr=0.01,device=device,optimizer_algorithm='Adam',adaptive=True)"
   ]
  },
  {
   "cell_type": "code",
   "execution_count": null,
   "metadata": {},
   "outputs": [],
   "source": [
    "params_50MeV_model1_Si"
   ]
  },
  {
   "cell_type": "code",
   "execution_count": null,
   "metadata": {},
   "outputs": [],
   "source": [
    "plot_eta(55,params_50MeV_model1_Si,plot_mb =True,device=device,save=False,plotname=None,dir='./',cross_section = 1e-37,halo_params = [220.0,232,544,0.4e9],norm=1e-15)\n",
    "\n",
    "# plot_eta(10,params_10MeV_Adam_test,plot_mb =True,device=device,save=False,plotname=None,dir='./',cross_section = 1e-36)\n",
    "test_stats_50MeV_model1_Si"
   ]
  },
  {
   "cell_type": "code",
   "execution_count": null,
   "metadata": {},
   "outputs": [],
   "source": [
    "import pickle\n",
    "with open(f'./halo_independent/halo_idp_results/{'model1_cuda.pickle'}','rb') as dbfile:\n",
    "    data = pickle.load(dbfile)\n",
    "\n",
    "likelihood_fdm0 = []\n",
    "test_stats_fdm0 = []\n",
    "likelihood_fdm2 = []\n",
    "test_stats_fdm2 = []\n",
    "params_fdm0 = []\n",
    "params_fdm2 = []\n",
    "dm_masses = list(data[0].keys())\n",
    "print(dm_masses)\n",
    "\n",
    "for mX in dm_masses:\n",
    "    likelihood0 = data[0][mX]['likelihoods']\n",
    "    likelihood2 = data[2][mX]['likelihoods']\n",
    "    likelihood_fdm0.append(likelihood0)\n",
    "    likelihood_fdm2.append(likelihood2)\n",
    "\n",
    "    teststats0 = data[0][mX]['test_statistics']\n",
    "    teststats2 = data[2][mX]['test_statistics']\n",
    "    test_stats_fdm0.append(teststats0)\n",
    "    test_stats_fdm2.append(teststats2)\n",
    "\n",
    "    params0 = data[0][mX]['params']\n",
    "    params2 = data[2][mX]['params']\n",
    "    params_fdm0.append(params0)\n",
    "    params_fdm2.append(params2)\n",
    "t = data[2][50]['params']\n"
   ]
  },
  {
   "cell_type": "code",
   "execution_count": null,
   "metadata": {},
   "outputs": [],
   "source": [
    "plot_eta(50,t,plot_mb =True,device=t.device,save=False,plotname='testing',dir='./',cross_section=1e-37,halo_params=tien_halo_params,norm=1e-15)\n"
   ]
  },
  {
   "cell_type": "code",
   "execution_count": null,
   "metadata": {},
   "outputs": [],
   "source": [
    "# device = 'cuda'\n",
    "# if device == 'mps':\n",
    "#     type_torch = torch.float\n",
    "# else:\n",
    "#     type_torch = torch.double\n",
    "# modelnumber = 1\n",
    "# fpath_si = f'./halo_independent/1kgyr_fake_data/Model{modelnumber}_Si.csv'\n",
    "\n",
    "# from numpy import loadtxt as loadtxt\n",
    "# fake_data_si = loadtxt(fpath_si,delimiter=',')\n",
    "# rates_si = fake_data_si[:,1]\n",
    "# rates_si = torch.from_numpy(rates_si)\n",
    "# if device == 'mps':\n",
    "#     rates_si = rates_si.float()\n",
    "# rates_si = rates_si.to(device)\n",
    "# fpath_ge = f'./halo_independent/1kgyr_fake_data/Model{modelnumber}_Ge.csv'\n",
    "# fake_data_ge = loadtxt(fpath_ge,delimiter=',')\n",
    "# rates_ge = fake_data_ge[:,1]\n",
    "# rates_ge = torch.from_numpy(rates_ge)\n",
    "# if device == 'mps':\n",
    "#     rates_ge = rates_ge.float()\n",
    "# rates_ge = rates_ge.to(device)\n",
    "# model_rates = [rates_si,rates_ge]\n",
    "\n",
    "\n",
    "# FDMn = 2\n",
    "# from haloidp_analysis import minimize,profile_likelihood\n",
    "# num_steps = 100\n",
    "# # test_params_1MeV = torch.rand(num_steps,dtype=torch.float32,device=device)\n",
    "# # test_params_10MeV_AdamW = torch.rand(num_steps,dtype=torch.double,device=device)\n",
    "# model1_params_50MeV_Adam_Ge = torch.rand(num_steps,dtype=type_torch,device=device)\n",
    "\n",
    "# # test_params_20MeV = torch.rand(num_steps,dtype=torch.float32,device=device)\n",
    "# # test_params_100MeV = torch.rand(num_steps,dtype=torch.float32,device=device)\n",
    "# # print('Initial Params',test_params_10MeV)\n",
    "# materials = ['Si','Ge']\n",
    "# params_50MeV_model1_Ge,likeilhoods_50MeV_model1_Ge,test_stats_50MeV_model1_Ge =  minimize(50,FDMn,[rates_ge],['Ge'],profile_likelihood, model1_params_50MeV_Adam_Ge,epochs=10000,lr=0.001,device=device,optimizer_algorithm='Adam',adaptive=True)"
   ]
  },
  {
   "cell_type": "code",
   "execution_count": null,
   "metadata": {},
   "outputs": [],
   "source": [
    "# plot_eta(50,params_50MeV_model1_Ge,plot_mb =True,device=device,save=False,plotname=None,dir='./',cross_section = 1e-37,halo_params = [220.0,232,544,0.4e9])\n"
   ]
  },
  {
   "cell_type": "code",
   "execution_count": null,
   "metadata": {},
   "outputs": [],
   "source": [
    "# import torch\n",
    "# torch.concatenate((torch.arange(10,100,step=5),torch.arange(100,1100,step=100)))"
   ]
  },
  {
   "cell_type": "code",
   "execution_count": null,
   "metadata": {},
   "outputs": [],
   "source": [
    "# from haloidp_analysis import mock_data_scan\n",
    "# data = mock_data_scan(1,'cuda',adaptive=True,mock_data_dir='1kgyr_fake_data',optimizer='Adam')"
   ]
  },
  {
   "cell_type": "code",
   "execution_count": 13,
   "metadata": {
    "metadata": {}
   },
   "outputs": [
    {
     "data": {
      "application/vnd.jupyter.widget-view+json": {
       "model_id": "23d39414b50e4866b5a1e80292c60c18",
       "version_major": 2,
       "version_minor": 0
      },
      "text/plain": [
       "  0%|          | 0/29 [00:00<?, ?it/s]"
      ]
     },
     "metadata": {},
     "output_type": "display_data"
    },
    {
     "data": {
      "application/vnd.jupyter.widget-view+json": {
       "model_id": "441f60f6361e4851a814f3f8ff7736ff",
       "version_major": 2,
       "version_minor": 0
      },
      "text/plain": [
       "  0%|          | 0/20000 [00:00<?, ?it/s]"
      ]
     },
     "metadata": {},
     "output_type": "display_data"
    }
   ],
   "source": [
    "import torch\n",
    "from tqdm.autonotebook import tqdm\n",
    "device = 'cuda'\n",
    "if device == 'mps':\n",
    "    type_torch = torch.float\n",
    "else:\n",
    "    type_torch = torch.double\n",
    "modelnumber = 5\n",
    "fpath_si = f'./halo_independent/1kgyr_fake_data/Model{modelnumber}_Si.csv'\n",
    "\n",
    "from numpy import loadtxt as loadtxt\n",
    "fake_data_si = loadtxt(fpath_si,delimiter=',')\n",
    "rates_si = fake_data_si[:,1]\n",
    "rates_si = torch.from_numpy(rates_si)\n",
    "if device == 'mps':\n",
    "    rates_si = rates_si.float()\n",
    "rates_si = rates_si.to(device)\n",
    "fpath_ge = f'./halo_independent/1kgyr_fake_data/Model{modelnumber}_Ge.csv'\n",
    "fake_data_ge = loadtxt(fpath_ge,delimiter=',')\n",
    "rates_ge = fake_data_ge[:,1]\n",
    "rates_ge = torch.from_numpy(rates_ge)\n",
    "if device == 'mps':\n",
    "    rates_ge = rates_ge.float()\n",
    "rates_ge = rates_ge.to(device)\n",
    "model_rates = [rates_si,rates_ge]\n",
    "\n",
    "\n",
    "FDMn = 2\n",
    "from haloidp_analysis import minimize,profile_likelihood\n",
    "num_steps = 100\n",
    "# test_params_1MeV = torch.rand(num_steps,dtype=torch.float32,device=device)\n",
    "# test_params_10MeV_AdamW = torch.rand(num_steps,dtype=torch.double,device=device)\n",
    "stuffs = []\n",
    "# coarse_mX_grid = [5,10,20,30,40,50,60,70,80,90]\n",
    "# coarse_mX_grid = [40,50,60]\n",
    "coarse_mX_grid = torch.concatenate((torch.arange(5,100,step=5),torch.arange(100,1100,step=100))).numpy()\n",
    "\n",
    "starting_points = []\n",
    "for m in range(len(coarse_mX_grid)):\n",
    "    starting_points.append(torch.rand(num_steps,dtype=type_torch,device=device))\n",
    "\n",
    "for FDMn in [0,2]:\n",
    "    stuff = []\n",
    "    for m in tqdm(range(len(coarse_mX_grid))):\n",
    "        mX = coarse_mX_grid[m]\n",
    "        model1_params_Adam_temp = starting_points[m].detach().clone()\n",
    "        model1_params_Adam_temp = model1_params_Adam_temp.to(device)\n",
    "        # test_params_20MeV = torch.rand(num_steps,dtype=torch.float32,device=device)|\n",
    "        # test_params_100MeV = torch.rand(num_steps,dtype=torch.float32,device=device)\n",
    "        # print('Initial Params',test_params_10MeV)\n",
    "        materials = ['Si','Ge']\n",
    "        params_,likeilhoods_,test_stats_ =  minimize(mX,FDMn,model_rates,materials,profile_likelihood, model1_params_Adam_temp,epochs=20000,lr=0.01,device=device,optimizer_algorithm='AdamW',adaptive=True)\n",
    "\n",
    "        stuff.append([mX,params_,likeilhoods_,test_stats_])\n",
    "    stuffs.append(stuff)"
   ]
  },
  {
   "cell_type": "code",
   "execution_count": null,
   "metadata": {},
   "outputs": [],
   "source": []
  },
  {
   "cell_type": "code",
   "execution_count": null,
   "metadata": {},
   "outputs": [],
   "source": [
    "# print(stuffs[0][0][0],stuffs[0][0][3])\n",
    "# plot_eta(stuffs[0][0][0],stuffs[0][0][1],plot_mb =True,device=stuffs[0][0][1].device,save=False,plotname='testing',dir='./',cross_section=1e-37,halo_params=tien_halo_params)\n"
   ]
  },
  {
   "cell_type": "code",
   "execution_count": 11,
   "metadata": {
    "metadata": {}
   },
   "outputs": [
    {
     "name": "stdout",
     "output_type": "stream",
     "text": [
      "5 [10.967459031855878, 30.47261902936219] 41.44007806121807\n",
      "10 [13.600503382751338, 37.72437978751152] 51.324883170262865\n",
      "15 [8.601684876075025, 22.62577380726693] 31.227458683341958\n",
      "20 [8.993764665629909, 12.875809598348415] 21.869574263978322\n",
      "25 [10.428197885236411, 9.619607377240044] 20.047805262476455\n",
      "30 [6.3414373471333985, 4.654866136711366] 10.996303483844764\n",
      "35 [5.652049993709233, 4.4606737724973] 10.112723766206532\n",
      "40 [3.4625073677236022, 4.322464567199264] 7.784971934922866\n",
      "45 [2.2627861560985485, 3.862767414827121] 6.125553570925669\n",
      "50 [4.698525253897971, 6.368097598148217] 11.066622852046187\n",
      "55 [5.676146459887928, 7.460376240157552] 13.136522700045479\n",
      "60 [13.181504518894236, 16.386481869851494] 29.56798638874573\n",
      "65 [14.536307926854843, 16.41579504886608] 30.952102975720923\n",
      "70 [18.133537541816597, 17.86704280228258] 36.00058034409918\n",
      "75 [24.59744970054876, 18.495783801513213] 43.09323350206198\n",
      "80 [30.373691462539842, 21.41886352981735] 51.792554992357196\n",
      "85 [41.73628122037853, 20.923534554122664] 62.6598157745012\n",
      "90 [43.10567851291613, 23.273593828852604] 66.37927234176874\n",
      "95 [48.83725432161952, 25.61472733050069] 74.45198165212021\n",
      "100 [56.318770512480214, 25.188492047672973] 81.50726256015318\n",
      "200 [136.99404479522445, 35.95250641326116] 172.94655120848563\n",
      "300 [163.80308659819667, 43.58555642330214] 207.3886430214988\n",
      "400 [186.13980455668178, 44.32071281737844] 230.46051737406023\n",
      "500 [189.213957967328, 47.48145730099489] 236.6954152683229\n",
      "600 [194.24054352884733, 42.75968936691723] 237.00023289576455\n",
      "700 [202.06101602541023, 42.65934414191558] 244.7203601673258\n",
      "800 [215.32461749346174, 45.604739385074765] 260.9293568785365\n",
      "900 [225.3337391392755, 48.68693395630171] 274.0206730955772\n",
      "1000 [230.4481155449499, 49.495725055190334] 279.9438406001402\n",
      "8\n",
      "best fit at 45, ts = 6.125553570925669, si best fit at 45, ge best fit at 45\n"
     ]
    },
    {
     "data": {
      "image/png": "[encoded data removed]",
      "text/plain": [
       "<Figure size 1500x1000 with 1 Axes>"
      ]
     },
     "metadata": {},
     "output_type": "display_data"
    }
   ],
   "source": [
    "import numpy as np\n",
    "import matplotlib.pyplot as plt\n",
    "from haloidp_analysis import plot_eta\n",
    "tien_halo_params = [220.0,232,544,0.4e9]\n",
    "ts = []\n",
    "ts_si = []\n",
    "ts_ge = []\n",
    "index = 0\n",
    "for i,mX in enumerate(coarse_mX_grid):\n",
    "    # params = stuff[i][0]\n",
    "    s = stuffs[index][i][3]\n",
    "    print(mX,s,sum(s))\n",
    "    ts.append(sum(s))\n",
    "    ts_si.append(s[0])\n",
    "    ts_ge.append(s[1])\n",
    "\n",
    "ts = np.array(ts)\n",
    "bfi = np.argmin(ts)\n",
    "bfi_Si= np.argmin(ts_si)\n",
    "bfi_Ge= np.argmin(ts_ge)\n",
    "print(bfi)\n",
    "print(f'best fit at {coarse_mX_grid[bfi]}, ts = {np.min(ts)}, si best fit at {coarse_mX_grid[bfi_Si]}, ge best fit at {coarse_mX_grid[bfi_Ge]}')\n",
    "best_fit_params = stuffs[index][bfi][1]\n",
    "plot_eta(coarse_mX_grid[bfi],best_fit_params,plot_mb =True,device=best_fit_params.device,save=False,plotname='testing',dir='./',cross_section=1e-37,halo_params=tien_halo_params,norm=1e-15)\n"
   ]
  },
  {
   "cell_type": "code",
   "execution_count": 12,
   "metadata": {
    "metadata": {}
   },
   "outputs": [
    {
     "data": {
      "text/plain": [
       "<matplotlib.legend.Legend at 0x7fc5cdf665a0>"
      ]
     },
     "execution_count": 12,
     "metadata": {},
     "output_type": "execute_result"
    },
    {
     "data": {
      "image/png": "[encoded data removed]",
      "text/plain": [
       "<Figure size 1500x1000 with 1 Axes>"
      ]
     },
     "metadata": {},
     "output_type": "display_data"
    },
    {
     "data": {
      "image/png": "[encoded data removed]",
      "text/plain": [
       "<Figure size 1500x1000 with 1 Axes>"
      ]
     },
     "metadata": {},
     "output_type": "display_data"
    }
   ],
   "source": [
    "ts_si = []\n",
    "ts_ge = []\n",
    "fig, ax = plt.subplots(figsize=(15,10))\n",
    "for i,mX in enumerate(coarse_mX_grid):\n",
    "    # params = stuff[i][0]\n",
    "    likelihood = stuffs[index][i][2]#.detach().cpu()\n",
    "    ts = stuffs[index][i][3]\n",
    "    ts_si.append(ts[0])\n",
    "    ts_ge.append(ts[1])\n",
    "\n",
    "    # print(likelihood.shape)\n",
    "    ax.plot(likelihood,label=mX)\n",
    "ax.legend()\n",
    "\n",
    "ts_si = np.array(ts_si)\n",
    "ts_ge = np.array(ts_ge)\n",
    "comb =ts_si+ts_ge\n",
    "fig, ax = plt.subplots(figsize=(15,10))\n",
    "# for i,mX in enumerate(coarse_mX_grid):\n",
    "    # params = stuff[i][0]\n",
    "    # print(likelihood.shape)\n",
    "ax.plot(coarse_mX_grid,ts_si,label=f\"TS Si\")\n",
    "ax.plot(coarse_mX_grid,ts_ge,label=f\"TS Ge\")\n",
    "ax.plot(coarse_mX_grid,comb,label=f\"TS Combined\")\n",
    "ax.set_xscale('log')\n",
    "ax.set_yscale('log')\n",
    "\n",
    "ax.legend()\n",
    "\n"
   ]
  },
  {
   "cell_type": "code",
   "execution_count": null,
   "metadata": {},
   "outputs": [],
   "source": [
    "from haloidp_analysis import find_best_fit\n",
    "# tien_halo_params = [220.0,232,544,0.4e9]\n",
    "\n",
    "data = find_best_fit('model1_cuda.pickle','Model 1',plot_shm = True,zoom=False,log=False,cross_section=1e-37,onlySi=False,halo_params=tien_halo_params,save=False)"
   ]
  },
  {
   "cell_type": "code",
   "execution_count": null,
   "metadata": {},
   "outputs": [],
   "source": [
    "import torch\n",
    "device = 'cuda'\n",
    "if device == 'mps':\n",
    "    type_torch = torch.float\n",
    "else:\n",
    "    type_torch = torch.double\n",
    "modelnumber = 2\n",
    "fpath_si = f'./halo_independent/1kgyr_fake_data/Model{modelnumber}_Si.csv'\n",
    "\n",
    "from numpy import loadtxt as loadtxt\n",
    "fake_data_si = loadtxt(fpath_si,delimiter=',')\n",
    "rates_si = fake_data_si[:,1]\n",
    "rates_si = torch.from_numpy(rates_si)\n",
    "if device == 'mps':\n",
    "    rates_si = rates_si.float()\n",
    "rates_si = rates_si.to(device)\n",
    "fpath_ge = f'./halo_independent/1kgyr_fake_data/Model{modelnumber}_Ge.csv'\n",
    "fake_data_ge = loadtxt(fpath_ge,delimiter=',')\n",
    "rates_ge = fake_data_ge[:,1]\n",
    "rates_ge = torch.from_numpy(rates_ge)\n",
    "if device == 'mps':\n",
    "    rates_ge = rates_ge.float()\n",
    "rates_ge = rates_ge.to(device)\n",
    "model_rates = [rates_si,rates_ge]\n",
    "\n",
    "\n",
    "FDMn = 2\n",
    "from haloidp_analysis import minimize,profile_likelihood\n",
    "num_steps = 100\n",
    "# test_params_1MeV = torch.rand(num_steps,dtype=torch.float32,device=device)\n",
    "# test_params_10MeV_AdamW = torch.rand(num_steps,dtype=torch.double,device=device)\n",
    "model1_params_50MeV_Adamh = torch.rand(num_steps,dtype=type_torch,device=device)\n",
    "\n",
    "# test_params_20MeV = torch.rand(num_steps,dtype=torch.float32,device=device)\n",
    "# test_params_100MeV = torch.rand(num_steps,dtype=torch.float32,device=device)\n",
    "# print('Initial Params',test_params_10MeV)\n",
    "materials = ['Si','Ge']\n",
    "\n",
    "params_h,likeilhoods_h,test_stats_h =  minimize(100,FDMn,model_rates,materials,profile_likelihood, model1_params_50MeV_Adamh,epochs=20000,lr=0.0001,device=device,optimizer_algorithm='AdamW',adaptive=True,fused=False)"
   ]
  },
  {
   "cell_type": "code",
   "execution_count": null,
   "metadata": {},
   "outputs": [],
   "source": [
    "test_stats_\n",
    "\n",
    "\n",
    "params_h\n",
    "\n"
   ]
  },
  {
   "cell_type": "code",
   "execution_count": null,
   "metadata": {},
   "outputs": [],
   "source": [
    "# 50 [0.5035492079568433, 0.2802761856937068] 0.7838253936505502 #from AdamW 10k steps adaptive lr = 0.001\n"
   ]
  },
  {
   "cell_type": "code",
   "execution_count": null,
   "metadata": {},
   "outputs": [],
   "source": [
    "from haloidp_analysis import plot_eta\n",
    "tien_halo_params = [220.0,232,544,0.4e9]\n",
    "\n",
    "plot_eta(100,params_h,plot_mb =False,device=params_h.device,save=False,plotname='testing',dir='./',cross_section=1e-37,halo_params=tien_halo_params,norm=1e-15)\n"
   ]
  },
  {
   "cell_type": "code",
   "execution_count": null,
   "metadata": {},
   "outputs": [],
   "source": []
  },
  {
   "cell_type": "code",
   "execution_count": null,
   "metadata": {},
   "outputs": [],
   "source": []
  },
  {
   "cell_type": "code",
   "execution_count": null,
   "metadata": {},
   "outputs": [],
   "source": []
  },
  {
   "cell_type": "code",
   "execution_count": null,
   "metadata": {},
   "outputs": [],
   "source": [
    "import matplotlib.pyplot as plt\n",
    "plt.plot(likeilhoods_)"
   ]
  },
  {
   "cell_type": "code",
   "execution_count": null,
   "metadata": {},
   "outputs": [],
   "source": [
    "device = 'cuda'\n",
    "if device == 'mps':\n",
    "    type_torch = torch.float\n",
    "else:\n",
    "    type_torch = torch.double\n",
    "modelnumber = 2\n",
    "fpath_si = f'./halo_independent/1kgyr_fake_data/Model{modelnumber}_Si.csv'\n",
    "\n",
    "from numpy import loadtxt as loadtxt\n",
    "fake_data_si = loadtxt(fpath_si,delimiter=',')\n",
    "rates_si = fake_data_si[:,1]\n",
    "rates_si = torch.from_numpy(rates_si)\n",
    "if device == 'mps':\n",
    "    rates_si = rates_si.float()\n",
    "rates_si = rates_si.to(device)\n",
    "fpath_ge = f'./halo_independent/1kgyr_fake_data/Model{modelnumber}_Ge.csv'\n",
    "fake_data_ge = loadtxt(fpath_ge,delimiter=',')\n",
    "rates_ge = fake_data_ge[:,1]\n",
    "rates_ge = torch.from_numpy(rates_ge)\n",
    "if device == 'mps':\n",
    "    rates_ge = rates_ge.float()\n",
    "rates_ge = rates_ge.to(device)\n",
    "model_rates = [rates_si,rates_ge]\n",
    "\n",
    "\n",
    "FDMn = 2\n",
    "from haloidp_analysis import minimize,profile_likelihood\n",
    "num_steps = 100\n",
    "# test_params_1MeV = torch.rand(num_steps,dtype=torch.float32,device=device)\n",
    "# test_params_10MeV_AdamW = torch.rand(num_steps,dtype=torch.double,device=device)\n",
    "model1_params_50MeV_Adam2 = torch.rand(num_steps,dtype=type_torch,device=device)\n",
    "\n",
    "# test_params_20MeV = torch.rand(num_steps,dtype=torch.float32,device=device)\n",
    "# test_params_100MeV = torch.rand(num_steps,dtype=torch.float32,device=device)\n",
    "# print('Initial Params',test_params_10MeV)\n",
    "materials = ['Si','Ge']\n",
    "params_2,likeilhoods_2,test_stats_2 =  minimize(70,FDMn,model_rates,materials,profile_likelihood, model1_params_50MeV_Adam2,epochs=20000,lr=0.001,device=device,optimizer_algorithm='AdamW',adaptive=False)"
   ]
  },
  {
   "cell_type": "code",
   "execution_count": null,
   "metadata": {},
   "outputs": [],
   "source": [
    "test_stats_2"
   ]
  },
  {
   "cell_type": "code",
   "execution_count": null,
   "metadata": {},
   "outputs": [],
   "source": [
    "from haloidp_analysis import plot_eta\n",
    "plot_eta(50,params_2,plot_mb =True,device=params_.device,save=False,plotname='testing',dir='./',cross_section=1e-37,halo_params=tien_halo_params)\n"
   ]
  },
  {
   "cell_type": "code",
   "execution_count": null,
   "metadata": {},
   "outputs": [],
   "source": [
    "import matplotlib.pyplot as plt\n",
    "plt.plot(likeilhoods_2)"
   ]
  },
  {
   "cell_type": "code",
   "execution_count": null,
   "metadata": {},
   "outputs": [],
   "source": [
    "import numpy as np\n",
    "test_stats_2,test_stats_,np.sum(test_stats_2),np.sum(test_stats_)"
   ]
  },
  {
   "cell_type": "code",
   "execution_count": null,
   "metadata": {},
   "outputs": [],
   "source": []
  },
  {
   "cell_type": "code",
   "execution_count": null,
   "metadata": {},
   "outputs": [],
   "source": []
  },
  {
   "cell_type": "code",
   "execution_count": null,
   "metadata": {},
   "outputs": [],
   "source": []
  },
  {
   "cell_type": "code",
   "execution_count": null,
   "metadata": {},
   "outputs": [],
   "source": []
  },
  {
   "cell_type": "code",
   "execution_count": null,
   "metadata": {},
   "outputs": [],
   "source": []
  },
  {
   "cell_type": "code",
   "execution_count": null,
   "metadata": {},
   "outputs": [],
   "source": []
  },
  {
   "cell_type": "code",
   "execution_count": null,
   "metadata": {},
   "outputs": [],
   "source": []
  },
  {
   "cell_type": "code",
   "execution_count": null,
   "metadata": {},
   "outputs": [],
   "source": []
  },
  {
   "cell_type": "code",
   "execution_count": null,
   "metadata": {},
   "outputs": [],
   "source": []
  },
  {
   "cell_type": "code",
   "execution_count": null,
   "metadata": {},
   "outputs": [],
   "source": []
  },
  {
   "cell_type": "code",
   "execution_count": null,
   "metadata": {},
   "outputs": [],
   "source": []
  },
  {
   "cell_type": "code",
   "execution_count": null,
   "metadata": {},
   "outputs": [],
   "source": []
  },
  {
   "cell_type": "code",
   "execution_count": null,
   "metadata": {},
   "outputs": [],
   "source": []
  },
  {
   "cell_type": "code",
   "execution_count": null,
   "metadata": {},
   "outputs": [],
   "source": []
  },
  {
   "cell_type": "code",
   "execution_count": null,
   "metadata": {},
   "outputs": [],
   "source": []
  },
  {
   "cell_type": "code",
   "execution_count": null,
   "metadata": {},
   "outputs": [],
   "source": []
  },
  {
   "cell_type": "code",
   "execution_count": null,
   "metadata": {},
   "outputs": [],
   "source": []
  },
  {
   "cell_type": "code",
   "execution_count": null,
   "metadata": {},
   "outputs": [],
   "source": []
  },
  {
   "cell_type": "code",
   "execution_count": null,
   "metadata": {},
   "outputs": [],
   "source": []
  },
  {
   "cell_type": "code",
   "execution_count": null,
   "metadata": {},
   "outputs": [],
   "source": []
  },
  {
   "cell_type": "code",
   "execution_count": null,
   "metadata": {},
   "outputs": [],
   "source": []
  },
  {
   "cell_type": "code",
   "execution_count": null,
   "metadata": {},
   "outputs": [],
   "source": []
  },
  {
   "cell_type": "code",
   "execution_count": null,
   "metadata": {},
   "outputs": [],
   "source": []
  },
  {
   "cell_type": "code",
   "execution_count": null,
   "metadata": {},
   "outputs": [],
   "source": []
  },
  {
   "cell_type": "code",
   "execution_count": null,
   "metadata": {},
   "outputs": [],
   "source": []
  },
  {
   "cell_type": "code",
   "execution_count": null,
   "metadata": {},
   "outputs": [],
   "source": []
  },
  {
   "cell_type": "code",
   "execution_count": null,
   "metadata": {},
   "outputs": [],
   "source": []
  },
  {
   "cell_type": "code",
   "execution_count": null,
   "metadata": {},
   "outputs": [],
   "source": []
  },
  {
   "cell_type": "code",
   "execution_count": null,
   "metadata": {},
   "outputs": [],
   "source": []
  },
  {
   "cell_type": "code",
   "execution_count": null,
   "metadata": {},
   "outputs": [],
   "source": []
  },
  {
   "cell_type": "code",
   "execution_count": null,
   "metadata": {},
   "outputs": [],
   "source": []
  },
  {
   "cell_type": "code",
   "execution_count": null,
   "metadata": {},
   "outputs": [],
   "source": []
  },
  {
   "cell_type": "code",
   "execution_count": null,
   "metadata": {},
   "outputs": [],
   "source": []
  },
  {
   "cell_type": "code",
   "execution_count": null,
   "metadata": {},
   "outputs": [],
   "source": []
  },
  {
   "cell_type": "code",
   "execution_count": null,
   "metadata": {},
   "outputs": [],
   "source": []
  },
  {
   "cell_type": "code",
   "execution_count": null,
   "metadata": {},
   "outputs": [],
   "source": []
  },
  {
   "cell_type": "code",
   "execution_count": null,
   "metadata": {},
   "outputs": [],
   "source": []
  },
  {
   "cell_type": "code",
   "execution_count": null,
   "metadata": {},
   "outputs": [],
   "source": []
  },
  {
   "cell_type": "code",
   "execution_count": null,
   "metadata": {},
   "outputs": [],
   "source": []
  },
  {
   "cell_type": "code",
   "execution_count": null,
   "metadata": {},
   "outputs": [],
   "source": []
  },
  {
   "cell_type": "code",
   "execution_count": null,
   "metadata": {},
   "outputs": [],
   "source": []
  },
  {
   "cell_type": "code",
   "execution_count": null,
   "metadata": {},
   "outputs": [],
   "source": []
  },
  {
   "cell_type": "code",
   "execution_count": null,
   "metadata": {},
   "outputs": [],
   "source": []
  },
  {
   "cell_type": "code",
   "execution_count": null,
   "metadata": {},
   "outputs": [],
   "source": []
  },
  {
   "cell_type": "code",
   "execution_count": null,
   "metadata": {},
   "outputs": [],
   "source": []
  },
  {
   "cell_type": "code",
   "execution_count": null,
   "metadata": {},
   "outputs": [],
   "source": []
  },
  {
   "cell_type": "code",
   "execution_count": null,
   "metadata": {},
   "outputs": [],
   "source": []
  },
  {
   "cell_type": "code",
   "execution_count": null,
   "metadata": {},
   "outputs": [],
   "source": []
  },
  {
   "cell_type": "code",
   "execution_count": null,
   "metadata": {},
   "outputs": [],
   "source": []
  },
  {
   "cell_type": "code",
   "execution_count": null,
   "metadata": {},
   "outputs": [],
   "source": []
  },
  {
   "cell_type": "code",
   "execution_count": null,
   "metadata": {},
   "outputs": [],
   "source": []
  },
  {
   "cell_type": "code",
   "execution_count": null,
   "metadata": {},
   "outputs": [],
   "source": [
    "# "
   ]
  },
  {
   "cell_type": "code",
   "execution_count": null,
   "metadata": {},
   "outputs": [],
   "source": []
  },
  {
   "cell_type": "code",
   "execution_count": null,
   "metadata": {},
   "outputs": [],
   "source": []
  },
  {
   "cell_type": "code",
   "execution_count": null,
   "metadata": {},
   "outputs": [],
   "source": []
  },
  {
   "cell_type": "code",
   "execution_count": null,
   "metadata": {},
   "outputs": [],
   "source": []
  },
  {
   "cell_type": "code",
   "execution_count": null,
   "metadata": {},
   "outputs": [],
   "source": []
  },
  {
   "cell_type": "code",
   "execution_count": null,
   "metadata": {},
   "outputs": [],
   "source": []
  },
  {
   "cell_type": "code",
   "execution_count": null,
   "metadata": {},
   "outputs": [],
   "source": []
  },
  {
   "cell_type": "code",
   "execution_count": null,
   "metadata": {},
   "outputs": [],
   "source": []
  },
  {
   "cell_type": "code",
   "execution_count": null,
   "metadata": {},
   "outputs": [],
   "source": []
  },
  {
   "cell_type": "code",
   "execution_count": null,
   "metadata": {},
   "outputs": [],
   "source": []
  },
  {
   "cell_type": "code",
   "execution_count": null,
   "metadata": {},
   "outputs": [],
   "source": []
  },
  {
   "cell_type": "code",
   "execution_count": null,
   "metadata": {},
   "outputs": [],
   "source": []
  },
  {
   "cell_type": "code",
   "execution_count": null,
   "metadata": {},
   "outputs": [],
   "source": []
  },
  {
   "cell_type": "code",
   "execution_count": null,
   "metadata": {},
   "outputs": [],
   "source": []
  },
  {
   "cell_type": "code",
   "execution_count": null,
   "metadata": {},
   "outputs": [],
   "source": []
  },
  {
   "cell_type": "code",
   "execution_count": null,
   "metadata": {},
   "outputs": [],
   "source": []
  },
  {
   "cell_type": "code",
   "execution_count": null,
   "metadata": {},
   "outputs": [],
   "source": []
  },
  {
   "cell_type": "code",
   "execution_count": null,
   "metadata": {},
   "outputs": [],
   "source": []
  },
  {
   "cell_type": "code",
   "execution_count": null,
   "metadata": {},
   "outputs": [],
   "source": []
  },
  {
   "cell_type": "code",
   "execution_count": null,
   "metadata": {},
   "outputs": [],
   "source": []
  },
  {
   "cell_type": "code",
   "execution_count": null,
   "metadata": {},
   "outputs": [],
   "source": []
  },
  {
   "cell_type": "code",
   "execution_count": null,
   "metadata": {},
   "outputs": [],
   "source": []
  },
  {
   "cell_type": "code",
   "execution_count": null,
   "metadata": {},
   "outputs": [],
   "source": []
  },
  {
   "cell_type": "code",
   "execution_count": null,
   "metadata": {},
   "outputs": [],
   "source": []
  },
  {
   "cell_type": "code",
   "execution_count": null,
   "metadata": {},
   "outputs": [],
   "source": []
  },
  {
   "cell_type": "code",
   "execution_count": null,
   "metadata": {},
   "outputs": [],
   "source": []
  },
  {
   "cell_type": "code",
   "execution_count": null,
   "metadata": {},
   "outputs": [],
   "source": []
  },
  {
   "cell_type": "code",
   "execution_count": null,
   "metadata": {},
   "outputs": [],
   "source": []
  },
  {
   "cell_type": "code",
   "execution_count": null,
   "metadata": {},
   "outputs": [],
   "source": []
  },
  {
   "cell_type": "code",
   "execution_count": null,
   "metadata": {},
   "outputs": [],
   "source": []
  },
  {
   "cell_type": "code",
   "execution_count": null,
   "metadata": {},
   "outputs": [],
   "source": []
  },
  {
   "cell_type": "code",
   "execution_count": null,
   "metadata": {},
   "outputs": [],
   "source": []
  },
  {
   "cell_type": "code",
   "execution_count": null,
   "metadata": {},
   "outputs": [],
   "source": []
  },
  {
   "cell_type": "code",
   "execution_count": null,
   "metadata": {},
   "outputs": [],
   "source": []
  },
  {
   "cell_type": "code",
   "execution_count": null,
   "metadata": {},
   "outputs": [],
   "source": []
  }
 ],
 "metadata": {
  "kernelspec": {
   "display_name": "Python 3 (ipykernel)",
   "language": "python",
   "name": "python3"
  },
  "language_info": {
   "codemirror_mode": {
    "name": "ipython",
    "version": 3
   },
   "file_extension": ".py",
   "mimetype": "text/x-python",
   "name": "python",
   "nbconvert_exporter": "python",
   "pygments_lexer": "ipython3",
   "version": "3.12.2"
  }
 },
 "nbformat": 4,
 "nbformat_minor": 4
}
